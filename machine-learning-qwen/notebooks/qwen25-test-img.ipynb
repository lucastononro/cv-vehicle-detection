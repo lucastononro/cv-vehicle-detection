{
 "cells": [
  {
   "cell_type": "code",
   "execution_count": 1,
   "metadata": {},
   "outputs": [],
   "source": [
    "# !pip3.11 install huggingface_hub --break-system-packages\n",
    "# !pip3.11 install git+https://github.com/huggingface/transformers accelerate --break-system-packages\n",
    "# !pip3.11 install qwen-vl-utils --break-system-packages\n",
    "# !pip3.11 install --pre torch==2.6.0 torchvision torchaudio --extra-index-url https://download.pytorch.org/whl/nightly/cpu\n",
    "# !pip3 install -U flash-attn --no-build-isolation --break-system-packages #- not used for macbooks"
   ]
  },
  {
   "cell_type": "code",
   "execution_count": 2,
   "metadata": {},
   "outputs": [
    {
     "name": "stderr",
     "output_type": "stream",
     "text": [
      "/opt/homebrew/lib/python3.11/site-packages/tqdm/auto.py:21: TqdmWarning: IProgress not found. Please update jupyter and ipywidgets. See https://ipywidgets.readthedocs.io/en/stable/user_install.html\n",
      "  from .autonotebook import tqdm as notebook_tqdm\n",
      "Loading checkpoint shards: 100%|██████████| 2/2 [00:12<00:00,  6.14s/it]\n"
     ]
    }
   ],
   "source": [
    "import torch\n",
    "from transformers import Qwen2_5_VLForConditionalGeneration, AutoProcessor\n",
    "from qwen_vl_utils import process_vision_info\n",
    "\n",
    "# Set the device to MPS if available, else fallback to CPU\n",
    "device = \"mps\" if torch.backends.mps.is_available() else \"cpu\"\n",
    "torch.mps.empty_cache()\n",
    "\n",
    "# Load model (using available device(s))\n",
    "model = Qwen2_5_VLForConditionalGeneration.from_pretrained(\n",
    "    \"Qwen/Qwen2.5-VL-3B-Instruct\", \n",
    "    torch_dtype=\"auto\", \n",
    "    device_map=\"auto\",\n",
    "    # attn_implementation=\"flash_attention_2\", # not avaialble for macbooks\n",
    ")\n",
    "\n",
    "# Move the model explicitly to the selected device\n",
    "model.to(device)\n",
    "\n",
    "# Load the processor for both text and vision modalities\n",
    "processor = AutoProcessor.from_pretrained(\"Qwen/Qwen2.5-VL-3B-Instruct\")\n"
   ]
  },
  {
   "cell_type": "markdown",
   "metadata": {},
   "source": [
    "# image 2 text inference"
   ]
  },
  {
   "cell_type": "code",
   "execution_count": 3,
   "metadata": {},
   "outputs": [],
   "source": [
    "\n",
    "# Define messages with an image and a text request\n",
    "messages = [\n",
    "    {\n",
    "        \"role\": \"user\",\n",
    "        \"content\": [\n",
    "            {\n",
    "                \"type\": \"image\",\n",
    "                \"image\": \"https://qianwen-res.oss-cn-beijing.aliyuncs.com/Qwen-VL/assets/demo.jpeg\",\n",
    "            },\n",
    "            {\"type\": \"text\", \"text\": \"Describe this image.\"},\n",
    "        ],\n",
    "    }\n",
    "]\n",
    "\n",
    "# Prepare the input text using the processor's chat template\n",
    "text = processor.apply_chat_template(\n",
    "    messages, tokenize=False, add_generation_prompt=True\n",
    ")\n",
    "\n",
    "# Process the vision information (images and/or videos)\n",
    "image_inputs, video_inputs = process_vision_info(messages)\n",
    "\n",
    "# Prepare the full inputs for the model\n",
    "inputs = processor(\n",
    "    text=[text],\n",
    "    images=image_inputs,\n",
    "    videos=video_inputs,\n",
    "    padding=True,\n",
    "    return_tensors=\"pt\",\n",
    ")\n",
    "\n",
    "# Move the inputs to the selected device\n",
    "inputs = inputs.to(device)\n",
    "\n",
    "# Run inference (generate a response)\n",
    "# generated_ids = model.generate(**inputs, max_new_tokens=128)\n",
    "\n",
    "# # Trim the generated IDs to exclude the prompt part\n",
    "# generated_ids_trimmed = [\n",
    "#     out_ids[len(in_ids):] for in_ids, out_ids in zip(inputs.input_ids, generated_ids)\n",
    "# ]\n",
    "\n",
    "# Decode the generated tokens into text\n",
    "# output_text = processor.batch_decode(\n",
    "#     generated_ids_trimmed, skip_special_tokens=True, clean_up_tokenization_spaces=False\n",
    "# )\n",
    "\n",
    "# print(output_text)\n",
    "\n"
   ]
  },
  {
   "cell_type": "markdown",
   "metadata": {},
   "source": [
    "# embedding extractions"
   ]
  },
  {
   "cell_type": "code",
   "execution_count": 4,
   "metadata": {},
   "outputs": [
    {
     "name": "stdout",
     "output_type": "stream",
     "text": [
      "Grid THW: tensor([[ 1, 40, 60]], device='mps:0')\n"
     ]
    }
   ],
   "source": [
    "def extract_image_embeddings(image_path, question=\"\", min_pixels=350000, max_pixels=500000):\n",
    "    # Create messages format similar to previous example\n",
    "    messages = [\n",
    "        {\n",
    "            \"role\": \"user\",\n",
    "            \"content\": [\n",
    "                {\n",
    "                    \"type\": \"image\",\n",
    "                    \"image\": image_path,\n",
    "                    \"max_pixels\": max_pixels,\n",
    "                    \"min_pixels\": min_pixels,\n",
    "                },\n",
    "                {\"type\": \"text\", \"text\": question},\n",
    "            ],\n",
    "        }\n",
    "    ]\n",
    "\n",
    "    # Process the vision information (images and/or videos)\n",
    "    image_inputs, video_inputs = process_vision_info(messages)\n",
    "\n",
    "    # Prepare the inputs\n",
    "    inputs = processor(\n",
    "        text=[\"\"],  # Empty text since we only need image embeddings\n",
    "        images=image_inputs,\n",
    "        videos=video_inputs,\n",
    "        padding=True,\n",
    "        return_tensors=\"pt\",\n",
    "    )\n",
    "    \n",
    "    # Move inputs to the correct device\n",
    "    inputs = inputs.to(device)\n",
    "    pixel_values = inputs[\"pixel_values\"].type(torch.bfloat16)\n",
    "    \n",
    "    # Extract the visual embeddings using the visual component\n",
    "    with torch.no_grad():\n",
    "        # Access the visual component directly\n",
    "        vision_model = model.visual\n",
    "        image_embeds = vision_model(pixel_values, grid_thw=inputs[\"image_grid_thw\"])\n",
    "    \n",
    "    return inputs[\"image_grid_thw\"], image_embeds\n",
    "\n",
    "# Example usage\n",
    "image_path = \"https://qianwen-res.oss-cn-beijing.aliyuncs.com/Qwen-VL/assets/demo.jpeg\"\n",
    "grid_thw, img_embeddings = extract_image_embeddings(image_path)\n",
    "print(f\"Grid THW: {grid_thw}\")\n",
    "# print(f\"Embedding shape: {embeddings.last_hidden_state.shape}\")"
   ]
  },
  {
   "cell_type": "code",
   "execution_count": 5,
   "metadata": {},
   "outputs": [
    {
     "data": {
      "text/plain": [
       "tensor([[-4.9688, -2.0312,  1.2578,  ..., -2.0625,  0.9414,  0.1787],\n",
       "        [ 1.2656, -3.2656,  1.5156,  ..., -2.3906,  1.5469, -0.2188],\n",
       "        [ 1.2031,  0.0474,  1.0078,  ..., -1.4141,  1.6328,  0.2012],\n",
       "        ...,\n",
       "        [-1.4844, -1.2266, -0.5586,  ...,  1.3750, -0.2012, -0.9219],\n",
       "        [ 0.0425, -0.9922, -1.8984,  ...,  1.3203,  0.1289, -1.8516],\n",
       "        [ 0.3945, -4.0312,  0.1670,  ...,  0.5117,  1.3672, -1.5391]],\n",
       "       device='mps:0', dtype=torch.bfloat16)"
      ]
     },
     "execution_count": 5,
     "metadata": {},
     "output_type": "execute_result"
    }
   ],
   "source": [
    "img_embeddings"
   ]
  },
  {
   "cell_type": "markdown",
   "metadata": {},
   "source": [
    "# text embedding extraction"
   ]
  },
  {
   "cell_type": "code",
   "execution_count": 6,
   "metadata": {},
   "outputs": [
    {
     "name": "stdout",
     "output_type": "stream",
     "text": [
      "Text embedding shape: torch.Size([1, 125, 2048])\n"
     ]
    }
   ],
   "source": [
    "# Get all the methods from model\n",
    "def extract_text_embeddings(text):\n",
    "    # Prepare the input text using the processor\n",
    "    inputs = processor(\n",
    "        text=[text],\n",
    "        padding=True,\n",
    "        return_tensors=\"pt\"\n",
    "    )\n",
    "    \n",
    "    # Move inputs to the correct device\n",
    "    inputs = inputs.to(device)\n",
    "    \n",
    "    # Extract the text embeddings using the decoder model\n",
    "    with torch.no_grad():\n",
    "        # Access the decoder model directly\n",
    "        decoder_model = model.model\n",
    "        outputs = decoder_model(\n",
    "            input_ids=inputs[\"input_ids\"],\n",
    "            attention_mask=inputs[\"attention_mask\"]\n",
    "        )\n",
    "        \n",
    "    return outputs.last_hidden_state\n",
    "\n",
    "# Example usage\n",
    "text = \"\"\"The image depicts a serene beach scene with a person and a dog. The person is sitting on the sandy beach, facing the ocean. They are wearing a plaid shirt and black pants, and they have long hair. The dog, which appears to be a Labrador Retriever, is sitting on the sand and is interacting with the person by placing its paw on their hand. The dog is wearing a harness with a colorful collar. The background shows the ocean with gentle waves and a clear sky, suggesting it might be early morning or late afternoon due to the soft lighting. The overall atmosphere of the image is peaceful and joyful\"\"\"\n",
    "\n",
    "text_embeddings = extract_text_embeddings(text)\n",
    "print(f\"Text embedding shape: {text_embeddings.shape}\")"
   ]
  },
  {
   "cell_type": "code",
   "execution_count": 7,
   "metadata": {},
   "outputs": [
    {
     "data": {
      "text/plain": [
       "tensor([[[ 1.4922, -1.7578, -2.3906,  ..., -1.1328,  9.9375, -0.1572],\n",
       "         [ 4.2188, -0.9023, -2.0938,  ..., -1.0938,  2.9219, -1.9062],\n",
       "         [-0.1592, -1.4531, -2.2031,  ..., -0.0221,  6.3438, -0.4980],\n",
       "         ...,\n",
       "         [ 0.4727, -4.0938,  2.3594,  ...,  1.3516,  7.1875, -3.1406],\n",
       "         [ 6.3125, -0.9336, -3.6562,  ..., -1.9219,  8.9375, -1.9297],\n",
       "         [-0.0109, -4.0000,  1.8984,  ..., -0.2676,  4.0938, -2.2344]]],\n",
       "       device='mps:0', dtype=torch.bfloat16)"
      ]
     },
     "execution_count": 7,
     "metadata": {},
     "output_type": "execute_result"
    }
   ],
   "source": [
    "text_embeddings"
   ]
  },
  {
   "cell_type": "markdown",
   "metadata": {},
   "source": [
    "# compare text and image embeddings"
   ]
  },
  {
   "cell_type": "code",
   "execution_count": 8,
   "metadata": {},
   "outputs": [
    {
     "name": "stdout",
     "output_type": "stream",
     "text": [
      "torch.Size([1, 125, 2048])\n",
      "torch.Size([600, 2048])\n"
     ]
    }
   ],
   "source": [
    "# torch multiply both embeddings\n",
    "print(text_embeddings.shape)\n",
    "print(img_embeddings.shape)"
   ]
  },
  {
   "cell_type": "code",
   "execution_count": 9,
   "metadata": {},
   "outputs": [
    {
     "name": "stdout",
     "output_type": "stream",
     "text": [
      "Cosine similarity: 0.07763671875\n"
     ]
    }
   ],
   "source": [
    "import torch.nn.functional as F\n",
    "\n",
    "# Assuming text_embeddings has shape [1, 125, 2048] and img_embeddings has shape [600, 2048]\n",
    "\n",
    "# Aggregate text embeddings by mean pooling along the token dimension (dim=1)\n",
    "pooled_text_embedding = text_embeddings.mean(dim=1)  # Resulting shape: [1, 2048]\n",
    "\n",
    "# Aggregate image embeddings by mean pooling along the token dimension (dim=0)\n",
    "pooled_image_embedding = img_embeddings.mean(dim=0, keepdim=True)  # Resulting shape: [1, 2048]\n",
    "\n",
    "# Normalize both embeddings to unit vectors\n",
    "norm_text_embedding = F.normalize(pooled_text_embedding, p=2, dim=-1)\n",
    "norm_image_embedding = F.normalize(pooled_image_embedding, p=2, dim=-1)\n",
    "\n",
    "# Compute cosine similarity between the text and image embeddings\n",
    "cosine_similarity = (norm_text_embedding * norm_image_embedding).sum(dim=-1)\n",
    "print(\"Cosine similarity:\", cosine_similarity.item())\n"
   ]
  },
  {
   "cell_type": "markdown",
   "metadata": {},
   "source": [
    "# image to image comparison"
   ]
  },
  {
   "cell_type": "code",
   "execution_count": 10,
   "metadata": {},
   "outputs": [],
   "source": [
    "# Calculate img1_embeddings and img2_embeddings from ./sim# Calculate embeddings for both images\n",
    "img1_path = \"./similarity_samples/corsa1.png\"\n",
    "img2_path = \"./similarity_samples/corsa2.webp\"\n",
    "\n",
    "# Get embeddings for first image\n",
    "grid_thw1, img1_embeddings = extract_image_embeddings(img1_path)\n",
    "\n",
    "# Get embeddings for second image\n",
    "grid_thw2, img2_embeddings = extract_image_embeddings(img2_path)\n"
   ]
  },
  {
   "cell_type": "code",
   "execution_count": 11,
   "metadata": {},
   "outputs": [
    {
     "name": "stdout",
     "output_type": "stream",
     "text": [
      "Cosine similarity: 0.9140625\n"
     ]
    }
   ],
   "source": [
    "import torch.nn.functional as F\n",
    "\n",
    "pooled_img1_embedding = img1_embeddings.mean(dim=0, keepdim=True)\n",
    "pooled_img2_embedding = img2_embeddings.mean(dim=0, keepdim=True)\n",
    "\n",
    "norm_img1_embedding = F.normalize(pooled_img1_embedding, p=2, dim=-1)\n",
    "norm_img2_embedding = F.normalize(pooled_img2_embedding, p=2, dim=-1)\n",
    "\n",
    "\n",
    "cosine_similarity = (norm_img1_embedding * norm_img2_embedding).sum(dim=-1)\n",
    "print(\"Cosine similarity:\", cosine_similarity.item())"
   ]
  },
  {
   "cell_type": "markdown",
   "metadata": {},
   "source": [
    "# 3d Viz"
   ]
  },
  {
   "cell_type": "code",
   "execution_count": 12,
   "metadata": {},
   "outputs": [],
   "source": [
    "# !pip3.11 install umap-learn plotly --break-system-packages\n",
    "# !pip3.11 install nbformat --break-system-packages"
   ]
  },
  {
   "cell_type": "code",
   "execution_count": 16,
   "metadata": {},
   "outputs": [
    {
     "name": "stdout",
     "output_type": "stream",
     "text": [
      "Processed tortoise1.jpeg\n",
      "Processed opra1.jpg\n",
      "Processed beyonce1.jpg\n",
      "Processed llama_faces.webp\n",
      "Processed sam2.jpeg\n",
      "Processed elon_suit2.jpg\n",
      "Processed German-Shepherd-dog-Alsatian.webp\n",
      "Processed corsa2.webp\n",
      "Processed opra2.jpg\n",
      "Processed dude_white_tshirt2.jpeg\n",
      "Processed corsa1.png\n",
      "Processed sam_pre_surgery.webp\n",
      "Processed elon_suit.jpg\n",
      "Processed dude_w_jacket.jpg\n",
      "Processed llama.webp\n",
      "Processed dude_white_tshirt.jpg\n",
      "Processed black_ferrari.webp\n",
      "Processed mark_lizzard.jpg\n",
      "Processed elon_bald.webp\n",
      "Processed fordka1.jpg\n",
      "Processed deude_green_tshirt2.jpg\n",
      "Processed tortoise2.jpeg\n",
      "Processed dude_green_tshirt.jpg\n",
      "Processed mark1.jpg\n"
     ]
    }
   ],
   "source": [
    "\n",
    "import os\n",
    "import numpy as np\n",
    "from umap import UMAP\n",
    "import plotly.graph_objects as go\n",
    "import torch\n",
    "import torch.nn.functional as F  # Ensure F is imported\n",
    "\n",
    "# --- Configuration ---\n",
    "# Directory containing image files\n",
    "image_dir = \"./similarity_samples\"\n",
    "# Only process files with these extensions\n",
    "valid_extensions = ('.png', '.jpg', '.jpeg', '.webp')\n",
    "\n",
    "# --- Get list of image files ---\n",
    "image_files = [f for f in os.listdir(image_dir) if f.lower().endswith(valid_extensions)]\n",
    "if not image_files:\n",
    "    raise ValueError(f\"No image files found in {image_dir} with extensions {valid_extensions}\")\n",
    "\n",
    "# --- Process each image ---\n",
    "all_embeddings = []\n",
    "file_names = []\n",
    "\n",
    "for image_file in image_files:\n",
    "    image_path = os.path.join(image_dir, image_file)\n",
    "    try:\n",
    "        # extract_image_embeddings is assumed to be defined in your environment\n",
    "        grid_thw, embeddings = extract_image_embeddings(image_path)\n",
    "        # Pool the token-level embeddings by taking the mean over the token dimension (no extra dim)\n",
    "        pooled_embedding = embeddings.mean(dim=0)  # shape: [2048]\n",
    "        normalized_embedding = F.normalize(pooled_embedding, p=2, dim=-1).cpu().float().numpy()\n",
    "        all_embeddings.append(normalized_embedding)\n",
    "        file_names.append(image_file)\n",
    "        print(f\"Processed {image_file}\")\n",
    "    except Exception as e:\n",
    "        print(f\"Error processing {image_file}: {e}\")\n",
    "\n",
    "if len(all_embeddings) == 0:\n",
    "    raise ValueError(\"No embeddings were extracted. Check your extract_image_embeddings function and inputs.\")\n"
   ]
  },
  {
   "cell_type": "code",
   "execution_count": 17,
   "metadata": {},
   "outputs": [
    {
     "name": "stdout",
     "output_type": "stream",
     "text": [
      "Embeddings array shape: (24, 2048)\n",
      "UMAP 3D projection shape: (24, 3)\n"
     ]
    },
    {
     "name": "stderr",
     "output_type": "stream",
     "text": [
      "/opt/homebrew/lib/python3.11/site-packages/umap/umap_.py:1952: UserWarning:\n",
      "\n",
      "n_jobs value 1 overridden to 1 by setting random_state. Use no seed for parallelism.\n",
      "\n"
     ]
    },
    {
     "data": {
      "application/vnd.plotly.v1+json": {
       "config": {
        "plotlyServerURL": "https://plot.ly"
       },
       "data": [
        {
         "hovertext": [
          "tortoise1.jpeg",
          "opra1.jpg",
          "beyonce1.jpg",
          "llama_faces.webp",
          "sam2.jpeg",
          "elon_suit2.jpg",
          "German-Shepherd-dog-Alsatian.webp",
          "corsa2.webp",
          "opra2.jpg",
          "dude_white_tshirt2.jpeg",
          "corsa1.png",
          "sam_pre_surgery.webp",
          "elon_suit.jpg",
          "dude_w_jacket.jpg",
          "llama.webp",
          "dude_white_tshirt.jpg",
          "black_ferrari.webp",
          "mark_lizzard.jpg",
          "elon_bald.webp",
          "fordka1.jpg",
          "deude_green_tshirt2.jpg",
          "tortoise2.jpeg",
          "dude_green_tshirt.jpg",
          "mark1.jpg"
         ],
         "marker": {
          "color": {
           "bdata": "AAECAwQFBgcICQoLDA0ODxAREhMUFRYX",
           "dtype": "i1"
          },
          "colorscale": [
           [
            0,
            "#440154"
           ],
           [
            0.1111111111111111,
            "#482878"
           ],
           [
            0.2222222222222222,
            "#3e4989"
           ],
           [
            0.3333333333333333,
            "#31688e"
           ],
           [
            0.4444444444444444,
            "#26828e"
           ],
           [
            0.5555555555555556,
            "#1f9e89"
           ],
           [
            0.6666666666666666,
            "#35b779"
           ],
           [
            0.7777777777777778,
            "#6ece58"
           ],
           [
            0.8888888888888888,
            "#b5de2b"
           ],
           [
            1,
            "#fde725"
           ]
          ],
          "opacity": 0.8,
          "size": 10
         },
         "mode": "markers+text",
         "text": [
          "tortoise1.jpeg",
          "opra1.jpg",
          "beyonce1.jpg",
          "llama_faces.webp",
          "sam2.jpeg",
          "elon_suit2.jpg",
          "German-Shepherd-dog-Alsatian.webp",
          "corsa2.webp",
          "opra2.jpg",
          "dude_white_tshirt2.jpeg",
          "corsa1.png",
          "sam_pre_surgery.webp",
          "elon_suit.jpg",
          "dude_w_jacket.jpg",
          "llama.webp",
          "dude_white_tshirt.jpg",
          "black_ferrari.webp",
          "mark_lizzard.jpg",
          "elon_bald.webp",
          "fordka1.jpg",
          "deude_green_tshirt2.jpg",
          "tortoise2.jpeg",
          "dude_green_tshirt.jpg",
          "mark1.jpg"
         ],
         "type": "scatter3d",
         "x": {
          "bdata": "SQFEQNrTWECaA0ZA2TZFQEdilUBUS3hAY/ASQA9TGEDNZ2lAsodGQNo19T8gcIVAM3qPQNOVMEDHoyJANNhlQHEV/z/w83ZAR06UQMQa7j/cCkZAex0tQDFESEAorodA",
          "dtype": "f4"
         },
         "y": {
          "bdata": "zeVQQXAyRkECRUJBzr1TQSbhQUHQiTtBt9VLQbXNT0FC9kBBXphAQTwPSEH0zEdBj+o9QUYGQEFqc1VB/VBAQZS0V0E0K1BBxf1IQYF5UEENpEhBNvRMQR9gO0FEmzVB",
          "dtype": "f4"
         },
         "z": {
          "bdata": "NN3dQNVf/0BPFutAGiH4QHF6AkG9EgFBNjD5QBSgCUHmBelAvkkVQWerB0GeyAdBQVn4QNASCEEHOvBAGUMRQYWOBUG/YARBWjH7QADnA0ErYxBBwGLXQJMWEUEEA/xA",
          "dtype": "f4"
         }
        }
       ],
       "layout": {
        "height": 900,
        "scene": {
         "xaxis": {
          "title": {
           "text": "UMAP Dimension 1"
          }
         },
         "yaxis": {
          "title": {
           "text": "UMAP Dimension 2"
          }
         },
         "zaxis": {
          "title": {
           "text": "UMAP Dimension 3"
          }
         }
        },
        "showlegend": false,
        "template": {
         "data": {
          "bar": [
           {
            "error_x": {
             "color": "#2a3f5f"
            },
            "error_y": {
             "color": "#2a3f5f"
            },
            "marker": {
             "line": {
              "color": "#E5ECF6",
              "width": 0.5
             },
             "pattern": {
              "fillmode": "overlay",
              "size": 10,
              "solidity": 0.2
             }
            },
            "type": "bar"
           }
          ],
          "barpolar": [
           {
            "marker": {
             "line": {
              "color": "#E5ECF6",
              "width": 0.5
             },
             "pattern": {
              "fillmode": "overlay",
              "size": 10,
              "solidity": 0.2
             }
            },
            "type": "barpolar"
           }
          ],
          "carpet": [
           {
            "aaxis": {
             "endlinecolor": "#2a3f5f",
             "gridcolor": "white",
             "linecolor": "white",
             "minorgridcolor": "white",
             "startlinecolor": "#2a3f5f"
            },
            "baxis": {
             "endlinecolor": "#2a3f5f",
             "gridcolor": "white",
             "linecolor": "white",
             "minorgridcolor": "white",
             "startlinecolor": "#2a3f5f"
            },
            "type": "carpet"
           }
          ],
          "choropleth": [
           {
            "colorbar": {
             "outlinewidth": 0,
             "ticks": ""
            },
            "type": "choropleth"
           }
          ],
          "contour": [
           {
            "colorbar": {
             "outlinewidth": 0,
             "ticks": ""
            },
            "colorscale": [
             [
              0,
              "#0d0887"
             ],
             [
              0.1111111111111111,
              "#46039f"
             ],
             [
              0.2222222222222222,
              "#7201a8"
             ],
             [
              0.3333333333333333,
              "#9c179e"
             ],
             [
              0.4444444444444444,
              "#bd3786"
             ],
             [
              0.5555555555555556,
              "#d8576b"
             ],
             [
              0.6666666666666666,
              "#ed7953"
             ],
             [
              0.7777777777777778,
              "#fb9f3a"
             ],
             [
              0.8888888888888888,
              "#fdca26"
             ],
             [
              1,
              "#f0f921"
             ]
            ],
            "type": "contour"
           }
          ],
          "contourcarpet": [
           {
            "colorbar": {
             "outlinewidth": 0,
             "ticks": ""
            },
            "type": "contourcarpet"
           }
          ],
          "heatmap": [
           {
            "colorbar": {
             "outlinewidth": 0,
             "ticks": ""
            },
            "colorscale": [
             [
              0,
              "#0d0887"
             ],
             [
              0.1111111111111111,
              "#46039f"
             ],
             [
              0.2222222222222222,
              "#7201a8"
             ],
             [
              0.3333333333333333,
              "#9c179e"
             ],
             [
              0.4444444444444444,
              "#bd3786"
             ],
             [
              0.5555555555555556,
              "#d8576b"
             ],
             [
              0.6666666666666666,
              "#ed7953"
             ],
             [
              0.7777777777777778,
              "#fb9f3a"
             ],
             [
              0.8888888888888888,
              "#fdca26"
             ],
             [
              1,
              "#f0f921"
             ]
            ],
            "type": "heatmap"
           }
          ],
          "histogram": [
           {
            "marker": {
             "pattern": {
              "fillmode": "overlay",
              "size": 10,
              "solidity": 0.2
             }
            },
            "type": "histogram"
           }
          ],
          "histogram2d": [
           {
            "colorbar": {
             "outlinewidth": 0,
             "ticks": ""
            },
            "colorscale": [
             [
              0,
              "#0d0887"
             ],
             [
              0.1111111111111111,
              "#46039f"
             ],
             [
              0.2222222222222222,
              "#7201a8"
             ],
             [
              0.3333333333333333,
              "#9c179e"
             ],
             [
              0.4444444444444444,
              "#bd3786"
             ],
             [
              0.5555555555555556,
              "#d8576b"
             ],
             [
              0.6666666666666666,
              "#ed7953"
             ],
             [
              0.7777777777777778,
              "#fb9f3a"
             ],
             [
              0.8888888888888888,
              "#fdca26"
             ],
             [
              1,
              "#f0f921"
             ]
            ],
            "type": "histogram2d"
           }
          ],
          "histogram2dcontour": [
           {
            "colorbar": {
             "outlinewidth": 0,
             "ticks": ""
            },
            "colorscale": [
             [
              0,
              "#0d0887"
             ],
             [
              0.1111111111111111,
              "#46039f"
             ],
             [
              0.2222222222222222,
              "#7201a8"
             ],
             [
              0.3333333333333333,
              "#9c179e"
             ],
             [
              0.4444444444444444,
              "#bd3786"
             ],
             [
              0.5555555555555556,
              "#d8576b"
             ],
             [
              0.6666666666666666,
              "#ed7953"
             ],
             [
              0.7777777777777778,
              "#fb9f3a"
             ],
             [
              0.8888888888888888,
              "#fdca26"
             ],
             [
              1,
              "#f0f921"
             ]
            ],
            "type": "histogram2dcontour"
           }
          ],
          "mesh3d": [
           {
            "colorbar": {
             "outlinewidth": 0,
             "ticks": ""
            },
            "type": "mesh3d"
           }
          ],
          "parcoords": [
           {
            "line": {
             "colorbar": {
              "outlinewidth": 0,
              "ticks": ""
             }
            },
            "type": "parcoords"
           }
          ],
          "pie": [
           {
            "automargin": true,
            "type": "pie"
           }
          ],
          "scatter": [
           {
            "fillpattern": {
             "fillmode": "overlay",
             "size": 10,
             "solidity": 0.2
            },
            "type": "scatter"
           }
          ],
          "scatter3d": [
           {
            "line": {
             "colorbar": {
              "outlinewidth": 0,
              "ticks": ""
             }
            },
            "marker": {
             "colorbar": {
              "outlinewidth": 0,
              "ticks": ""
             }
            },
            "type": "scatter3d"
           }
          ],
          "scattercarpet": [
           {
            "marker": {
             "colorbar": {
              "outlinewidth": 0,
              "ticks": ""
             }
            },
            "type": "scattercarpet"
           }
          ],
          "scattergeo": [
           {
            "marker": {
             "colorbar": {
              "outlinewidth": 0,
              "ticks": ""
             }
            },
            "type": "scattergeo"
           }
          ],
          "scattergl": [
           {
            "marker": {
             "colorbar": {
              "outlinewidth": 0,
              "ticks": ""
             }
            },
            "type": "scattergl"
           }
          ],
          "scattermap": [
           {
            "marker": {
             "colorbar": {
              "outlinewidth": 0,
              "ticks": ""
             }
            },
            "type": "scattermap"
           }
          ],
          "scattermapbox": [
           {
            "marker": {
             "colorbar": {
              "outlinewidth": 0,
              "ticks": ""
             }
            },
            "type": "scattermapbox"
           }
          ],
          "scatterpolar": [
           {
            "marker": {
             "colorbar": {
              "outlinewidth": 0,
              "ticks": ""
             }
            },
            "type": "scatterpolar"
           }
          ],
          "scatterpolargl": [
           {
            "marker": {
             "colorbar": {
              "outlinewidth": 0,
              "ticks": ""
             }
            },
            "type": "scatterpolargl"
           }
          ],
          "scatterternary": [
           {
            "marker": {
             "colorbar": {
              "outlinewidth": 0,
              "ticks": ""
             }
            },
            "type": "scatterternary"
           }
          ],
          "surface": [
           {
            "colorbar": {
             "outlinewidth": 0,
             "ticks": ""
            },
            "colorscale": [
             [
              0,
              "#0d0887"
             ],
             [
              0.1111111111111111,
              "#46039f"
             ],
             [
              0.2222222222222222,
              "#7201a8"
             ],
             [
              0.3333333333333333,
              "#9c179e"
             ],
             [
              0.4444444444444444,
              "#bd3786"
             ],
             [
              0.5555555555555556,
              "#d8576b"
             ],
             [
              0.6666666666666666,
              "#ed7953"
             ],
             [
              0.7777777777777778,
              "#fb9f3a"
             ],
             [
              0.8888888888888888,
              "#fdca26"
             ],
             [
              1,
              "#f0f921"
             ]
            ],
            "type": "surface"
           }
          ],
          "table": [
           {
            "cells": {
             "fill": {
              "color": "#EBF0F8"
             },
             "line": {
              "color": "white"
             }
            },
            "header": {
             "fill": {
              "color": "#C8D4E3"
             },
             "line": {
              "color": "white"
             }
            },
            "type": "table"
           }
          ]
         },
         "layout": {
          "annotationdefaults": {
           "arrowcolor": "#2a3f5f",
           "arrowhead": 0,
           "arrowwidth": 1
          },
          "autotypenumbers": "strict",
          "coloraxis": {
           "colorbar": {
            "outlinewidth": 0,
            "ticks": ""
           }
          },
          "colorscale": {
           "diverging": [
            [
             0,
             "#8e0152"
            ],
            [
             0.1,
             "#c51b7d"
            ],
            [
             0.2,
             "#de77ae"
            ],
            [
             0.3,
             "#f1b6da"
            ],
            [
             0.4,
             "#fde0ef"
            ],
            [
             0.5,
             "#f7f7f7"
            ],
            [
             0.6,
             "#e6f5d0"
            ],
            [
             0.7,
             "#b8e186"
            ],
            [
             0.8,
             "#7fbc41"
            ],
            [
             0.9,
             "#4d9221"
            ],
            [
             1,
             "#276419"
            ]
           ],
           "sequential": [
            [
             0,
             "#0d0887"
            ],
            [
             0.1111111111111111,
             "#46039f"
            ],
            [
             0.2222222222222222,
             "#7201a8"
            ],
            [
             0.3333333333333333,
             "#9c179e"
            ],
            [
             0.4444444444444444,
             "#bd3786"
            ],
            [
             0.5555555555555556,
             "#d8576b"
            ],
            [
             0.6666666666666666,
             "#ed7953"
            ],
            [
             0.7777777777777778,
             "#fb9f3a"
            ],
            [
             0.8888888888888888,
             "#fdca26"
            ],
            [
             1,
             "#f0f921"
            ]
           ],
           "sequentialminus": [
            [
             0,
             "#0d0887"
            ],
            [
             0.1111111111111111,
             "#46039f"
            ],
            [
             0.2222222222222222,
             "#7201a8"
            ],
            [
             0.3333333333333333,
             "#9c179e"
            ],
            [
             0.4444444444444444,
             "#bd3786"
            ],
            [
             0.5555555555555556,
             "#d8576b"
            ],
            [
             0.6666666666666666,
             "#ed7953"
            ],
            [
             0.7777777777777778,
             "#fb9f3a"
            ],
            [
             0.8888888888888888,
             "#fdca26"
            ],
            [
             1,
             "#f0f921"
            ]
           ]
          },
          "colorway": [
           "#636efa",
           "#EF553B",
           "#00cc96",
           "#ab63fa",
           "#FFA15A",
           "#19d3f3",
           "#FF6692",
           "#B6E880",
           "#FF97FF",
           "#FECB52"
          ],
          "font": {
           "color": "#2a3f5f"
          },
          "geo": {
           "bgcolor": "white",
           "lakecolor": "white",
           "landcolor": "#E5ECF6",
           "showlakes": true,
           "showland": true,
           "subunitcolor": "white"
          },
          "hoverlabel": {
           "align": "left"
          },
          "hovermode": "closest",
          "mapbox": {
           "style": "light"
          },
          "paper_bgcolor": "white",
          "plot_bgcolor": "#E5ECF6",
          "polar": {
           "angularaxis": {
            "gridcolor": "white",
            "linecolor": "white",
            "ticks": ""
           },
           "bgcolor": "#E5ECF6",
           "radialaxis": {
            "gridcolor": "white",
            "linecolor": "white",
            "ticks": ""
           }
          },
          "scene": {
           "xaxis": {
            "backgroundcolor": "#E5ECF6",
            "gridcolor": "white",
            "gridwidth": 2,
            "linecolor": "white",
            "showbackground": true,
            "ticks": "",
            "zerolinecolor": "white"
           },
           "yaxis": {
            "backgroundcolor": "#E5ECF6",
            "gridcolor": "white",
            "gridwidth": 2,
            "linecolor": "white",
            "showbackground": true,
            "ticks": "",
            "zerolinecolor": "white"
           },
           "zaxis": {
            "backgroundcolor": "#E5ECF6",
            "gridcolor": "white",
            "gridwidth": 2,
            "linecolor": "white",
            "showbackground": true,
            "ticks": "",
            "zerolinecolor": "white"
           }
          },
          "shapedefaults": {
           "line": {
            "color": "#2a3f5f"
           }
          },
          "ternary": {
           "aaxis": {
            "gridcolor": "white",
            "linecolor": "white",
            "ticks": ""
           },
           "baxis": {
            "gridcolor": "white",
            "linecolor": "white",
            "ticks": ""
           },
           "bgcolor": "#E5ECF6",
           "caxis": {
            "gridcolor": "white",
            "linecolor": "white",
            "ticks": ""
           }
          },
          "title": {
           "x": 0.05
          },
          "xaxis": {
           "automargin": true,
           "gridcolor": "white",
           "linecolor": "white",
           "ticks": "",
           "title": {
            "standoff": 15
           },
           "zerolinecolor": "white",
           "zerolinewidth": 2
          },
          "yaxis": {
           "automargin": true,
           "gridcolor": "white",
           "linecolor": "white",
           "ticks": "",
           "title": {
            "standoff": 15
           },
           "zerolinecolor": "white",
           "zerolinewidth": 2
          }
         }
        },
        "title": {
         "text": "3D UMAP Projection of Image Embeddings"
        },
        "width": 900
       }
      }
     },
     "metadata": {},
     "output_type": "display_data"
    }
   ],
   "source": [
    "all_embeddings = np.array(all_embeddings)\n",
    "print(\"Embeddings array shape:\", all_embeddings.shape)\n",
    "\n",
    "# --- UMAP Projection in 3D ---\n",
    "umap_3d = UMAP(n_components=3, random_state=42)\n",
    "embeddings_3d = umap_3d.fit_transform(all_embeddings)\n",
    "print(\"UMAP 3D projection shape:\", embeddings_3d.shape)\n",
    "\n",
    "# --- Create a 3D Scatter Plot using Plotly ---\n",
    "fig = go.Figure(data=[go.Scatter3d(\n",
    "    x=embeddings_3d[:, 0],\n",
    "    y=embeddings_3d[:, 1],\n",
    "    z=embeddings_3d[:, 2],\n",
    "    mode='markers+text',\n",
    "    text=file_names,\n",
    "    hovertext=file_names,\n",
    "    marker=dict(\n",
    "        size=10,\n",
    "        color=np.arange(len(file_names)),\n",
    "        colorscale='Viridis',\n",
    "        opacity=0.8\n",
    "    )\n",
    ")])\n",
    "\n",
    "fig.update_layout(\n",
    "    title='3D UMAP Projection of Image Embeddings',\n",
    "    scene=dict(\n",
    "        xaxis_title='UMAP Dimension 1',\n",
    "        yaxis_title='UMAP Dimension 2',\n",
    "        zaxis_title='UMAP Dimension 3'\n",
    "    ),\n",
    "    width=900,\n",
    "    height=900,\n",
    "    showlegend=False\n",
    ")\n",
    "\n",
    "# Show the plot (use renderer=\"browser\" if needed)\n",
    "fig.show()"
   ]
  },
  {
   "cell_type": "code",
   "execution_count": null,
   "metadata": {},
   "outputs": [],
   "source": []
  }
 ],
 "metadata": {
  "kernelspec": {
   "display_name": "Python 3",
   "language": "python",
   "name": "python3"
  },
  "language_info": {
   "codemirror_mode": {
    "name": "ipython",
    "version": 3
   },
   "file_extension": ".py",
   "mimetype": "text/x-python",
   "name": "python",
   "nbconvert_exporter": "python",
   "pygments_lexer": "ipython3",
   "version": "3.11.11"
  }
 },
 "nbformat": 4,
 "nbformat_minor": 2
}
